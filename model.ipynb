{
 "cells": [
  {
   "cell_type": "code",
   "execution_count": null,
   "metadata": {},
   "outputs": [],
   "source": [
    "import ollama\n",
    "\n",
    "# Initialize the Ollama client\n",
    "client = ollama.Client()\n",
    "\n",
    "# Define the model and the input prompt\n",
    "model = \"analyst\"  # Model name\n",
    "song = \"\" # Replace with song lyrics\n",
    "prompt = \"Segment the following song in verses: \" + song\n",
    "\n",
    "# Sends the query to the model\n",
    "response = client.generate(model=model, prompt=prompt)\n",
    "\n",
    "# Response from the model\n",
    "print(\"Response from analyst:\")\n",
    "print(response.response)"
   ]
  }
 ],
 "metadata": {
  "kernelspec": {
   "display_name": "Python 3",
   "language": "python",
   "name": "python3"
  },
  "language_info": {
   "codemirror_mode": {
    "name": "ipython",
    "version": 3
   },
   "file_extension": ".py",
   "mimetype": "text/x-python",
   "name": "python",
   "nbconvert_exporter": "python",
   "pygments_lexer": "ipython3",
   "version": "3.12.6"
  }
 },
 "nbformat": 4,
 "nbformat_minor": 2
}
